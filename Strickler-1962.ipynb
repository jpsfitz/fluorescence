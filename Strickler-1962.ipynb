{
 "cells": [
  {
   "cell_type": "code",
   "execution_count": 5,
   "metadata": {
    "ExecuteTime": {
     "end_time": "2017-02-07T13:58:31.207032",
     "start_time": "2017-02-07T13:58:31.202011"
    },
    "collapsed": false
   },
   "outputs": [
    {
     "name": "stdout",
     "output_type": "stream",
     "text": [
      "Loading modules ...\n",
      "Loading analysis codes ... \n",
      "  ... refractive index functions loaded:\n",
      "       Au, Ag, SiO2, ITO, ZnO, H2O, \n",
      "       ethanol, CS2, benzene, toluene, \n",
      "       chloroform, methanol, butanol, \n",
      "       propanol\n",
      "Ready player one.\n"
     ]
    }
   ],
   "source": [
    "%run header"
   ]
  },
  {
   "cell_type": "markdown",
   "metadata": {},
   "source": [
    "The natural radiative emission rate $k_{\\textrm{rad}}^{(0)}$, computed as a function of frequency: \n",
    "$$\n",
    "k_{\\textrm{rad}}^0 = \\frac{1}{\\tau_{\\textrm{rad}}^{(0)}} =\n",
    "\\frac{8\\pi}{c^2} \\;\\times\\; \n",
    "n_{\\textrm{med}}^2 \\;\\times\\; \n",
    "\\frac{ \\int_{\\textrm{em}} \\left[ C_{\\textrm{em}}(f) \\right] \\, df }{ \\int_{\\textrm{em}} \\left[ C_{\\textrm{em}}(f)/ f^3 \\right] \\, df } \\;\\times\\; \n",
    "\\frac{g_0}{g_{\\textrm{ex}}} \\;\\times\\;\n",
    "\\frac{1000\\ln10}{N_{\\textrm{Av}}}\\epsilon_{\\textrm{max}} \\int_{\\textrm{abs}} \\left[ C_{\\textrm{abs}}(f)/f\\right] \\, df\n",
    "$$  \n",
    "where:  \n",
    "- $\\tau_{\\textrm{rad}}^{(0)}$ is the natural radiative lifetime in seconds (s), \n",
    "  * in the absence of other radiative processes, related to the total lifetime $\\tau$ by the quantum yield $Q$:\n",
    "  * $\\frac{1}{\\tau} = \\frac{Q}{\\tau_{\\textrm{rad}}^{(0)}} \\; \\Leftrightarrow \\; k_{\\mathrm{tot}} = Q\\, k_{\\textrm{rad}}^{(0)}$, \n",
    "  * where the total lifetime also include nonradiative processes $k_{nr}$, \n",
    "  * the quantum yield can also be expressed $Q = k_r/(k_r + k_{nr})$, assuming only these two contributions; \n",
    "- $\\lambda$ is the vacuum wavelength in meters (m);\n",
    "- $c$ is the vacuum speed of light in m/s; \n",
    "- $n_{\\textrm{med}}$ is the refractive index of the surrounding medium; \n",
    "- $C_{\\textrm{em}}(\\lambda)$ is the emission spectrum (any units); \n",
    "- $g_0$ (and $g_{\\mathrm{ex}}$) is the degeneracy of the ground (excited) state, \n",
    "  * assume both to 1 for now; \n",
    "- $\\sigma_{\\textrm{max}}$ is the peak absorption cross section in m$^2$, \n",
    "  * related to the peak molar extinction coefficient $\\epsilon_{\\textrm{max}}$ in L$\\cdot$mol$^{-1}$cm$^{-1}$: \n",
    "  * $\\sigma_{\\textrm{max}} = \\frac{\\ln10}{10 N_{\\textrm{Av}} }\\epsilon_{\\textrm{max}}$;\n",
    "- $C_{\\textrm{abs}}(\\lambda)$ is the absorption spectrum (any units).  "
   ]
  },
  {
   "cell_type": "markdown",
   "metadata": {},
   "source": [
    "Conversion to wavelength calculation, and including the quantum efficiency:\n",
    "$$\n",
    "1/\\tau = \n",
    "8\\pi c \\;\\times\\; \n",
    "Q \\;\\times\\; \n",
    "n_{\\textrm{med}}^2 \\;\\times\\; \n",
    "\\frac{ \\int_{\\textrm{em}} \\left[ C_{\\textrm{em}}(\\lambda)\\, \\lambda^{-2} \\right] \\, d\\lambda }\n",
    "{ \\int_{\\textrm{em}} \\left[ C_{\\textrm{em}}(\\lambda)\\, \\lambda \\right] \\, d\\lambda } \\;\\times\\; \n",
    "\\frac{g_0}{g_{\\textrm{ex}}} \\;\\times\\;\n",
    "\\frac{1000\\ln10}{N_{\\textrm{Av}}}\\epsilon_{\\textrm{max}} \\int_{\\textrm{abs}} \\left[ C_{\\textrm{abs}}(\\lambda)\\, \\lambda^{-1} \\right] \\, d\\lambda\n",
    "$$"
   ]
  },
  {
   "cell_type": "markdown",
   "metadata": {},
   "source": [
    "We measure $k_{\\mathrm{tot}}$. Hopefully, relaxation rates due to natural dye processes $k_{\\mathrm{tot}}^{(0)}$ should be distinguishable from any ultrafast plasmonic relaxation pathways simply by lifetime. \n",
    "\n",
    "For a dye attached to PNIPAM, the changes in emission should be primarily due to (1) the refractive medium, and (2) the nonradiative contributions. Although we can calculate the other factors from the absorption and emission spectrum, lets assume everything else stays relatively constant. Then in terms of the swollen relaxation rate $k_{\\mathrm{tot}}^{(0)}(T_-)$ the collapsed relaxation rate is \n",
    "$$\n",
    "k_{\\mathrm{tot}}^{(0)}(T_+) = \\frac{Q(T_+)}{Q(T_-)} \\left[ \\frac{n_{\\textrm{med}}(T_+)}{n_{\\textrm{med}}(T_-)} \\right]^2 k_{\\mathrm{tot}}^{(0)}(T_-)\n",
    "$$ \n",
    "This tells us that changes in refractive index affect the rate quadratically, while changes in quantum yield affect the rate linearly. With many points, we may be able to separate these two processes, or at least use the maximum refractive index change to estimate the change in quantum yield. "
   ]
  },
  {
   "cell_type": "code",
   "execution_count": 32,
   "metadata": {
    "ExecuteTime": {
     "end_time": "2017-02-07T15:49:05.734327",
     "start_time": "2017-02-07T15:49:05.728277"
    },
    "collapsed": false
   },
   "outputs": [
    {
     "data": {
      "text/plain": [
       "[1.294950415338547, 1.1055256264182267]"
      ]
     },
     "execution_count": 32,
     "metadata": {},
     "output_type": "execute_result"
    }
   ],
   "source": [
    "[((1e-3/( (8*pi*cnmfs)*((ri.nH2O(500))**2)*(500**3)*(1e3*log(10)/AvogadroN)*1.2e5 ))).real ,\n",
    " ((1e-3/( (8*pi*cnmfs)*((ri.nH2O(500) + .11)**2)*(500**3)*(1e3*log(10)/AvogadroN)*1.2e5 ))).real ]"
   ]
  },
  {
   "cell_type": "code",
   "execution_count": null,
   "metadata": {
    "collapsed": true
   },
   "outputs": [],
   "source": []
  }
 ],
 "metadata": {
  "anaconda-cloud": {},
  "hide_input": false,
  "kernelspec": {
   "display_name": "Python [default]",
   "language": "python",
   "name": "python3"
  },
  "language_info": {
   "codemirror_mode": {
    "name": "ipython",
    "version": 3
   },
   "file_extension": ".py",
   "mimetype": "text/x-python",
   "name": "python",
   "nbconvert_exporter": "python",
   "pygments_lexer": "ipython3",
   "version": "3.5.2"
  },
  "toc": {
   "nav_menu": {
    "height": "12px",
    "width": "252px"
   },
   "navigate_menu": true,
   "number_sections": true,
   "sideBar": false,
   "threshold": 4,
   "toc_cell": false,
   "toc_section_display": "block",
   "toc_window_display": false
  }
 },
 "nbformat": 4,
 "nbformat_minor": 1
}
